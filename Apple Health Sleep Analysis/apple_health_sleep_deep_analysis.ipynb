{
 "cells": [
  {
   "cell_type": "code",
   "execution_count": null,
   "id": "693fd8b1",
   "metadata": {},
   "outputs": [],
   "source": [
    "# Import libraries\n",
    "import xml.etree.ElementTree as ET\n",
    "import pandas as pd\n",
    "import matplotlib.pyplot as plt\n",
    "import seaborn as sns\n",
    "from datetime import datetime, timedelta\n",
    "import numpy as np\n",
    "\n",
    "# Notebook settings\n",
    "sns.set(style='whitegrid', context='talk')\n",
    "plt.rcParams['figure.figsize'] = (12, 6)\n"
   ]
  },
  {
   "cell_type": "code",
   "execution_count": null,
   "id": "5877036b",
   "metadata": {},
   "outputs": [],
   "source": [
    "# Load Apple Health export\n",
    "xml_file = 'export.xml'\n",
    "tree = ET.parse(xml_file)\n",
    "root = tree.getroot()\n",
    "\n",
    "records = []\n",
    "for record in root.findall('Record'):\n",
    "    if record.get('type') == 'HKCategoryTypeIdentifierSleepAnalysis':\n",
    "        records.append({\n",
    "            'startDate': record.get('startDate'),\n",
    "            'endDate': record.get('endDate'),\n",
    "            'value': record.get('value')  # sleep category (in-bed, asleep, etc.)\n",
    "        })\n",
    "\n",
    "sleep_df = pd.DataFrame(records)\n",
    "sleep_df['startDate'] = pd.to_datetime(sleep_df['startDate'])\n",
    "sleep_df['endDate'] = pd.to_datetime(sleep_df['endDate'])\n",
    "sleep_df['duration_hours'] = (sleep_df['endDate'] - sleep_df['startDate']).dt.total_seconds() / 3600\n",
    "sleep_df['date'] = sleep_df['startDate'].dt.date\n",
    "\n",
    "sleep_df.head()\n"
   ]
  },
  {
   "cell_type": "code",
   "execution_count": null,
   "id": "10498ad2",
   "metadata": {},
   "outputs": [],
   "source": [
    "# Normalize sleep types\n",
    "sleep_df['sleep_type'] = sleep_df['value'].apply(lambda x: x.split('.')[-1] if x else 'Unknown')\n",
    "\n",
    "# Aggregate per night\n",
    "daily_sleep = (\n",
    "    sleep_df.groupby(['date', 'sleep_type'])['duration_hours']\n",
    "    .sum()\n",
    "    .unstack(fill_value=0)\n",
    "    .reset_index()\n",
    ")\n",
    "\n",
    "# Calculate total sleep per night\n",
    "daily_sleep['total_sleep_hours'] = daily_sleep.sum(axis=1, numeric_only=True)\n",
    "daily_sleep.head()\n"
   ]
  },
  {
   "cell_type": "code",
   "execution_count": null,
   "id": "9e105aa1",
   "metadata": {},
   "outputs": [],
   "source": [
    "plt.plot(daily_sleep['date'], daily_sleep['total_sleep_hours'], marker='o')\n",
    "plt.title(\"😴 Total Sleep Duration Over Time\")\n",
    "plt.xlabel(\"Date\")\n",
    "plt.ylabel(\"Hours Slept\")\n",
    "plt.axhline(8, color='green', linestyle='--', label='Recommended 8h')\n",
    "plt.legend()\n",
    "plt.show()\n"
   ]
  },
  {
   "cell_type": "code",
   "execution_count": null,
   "id": "3b804708",
   "metadata": {},
   "outputs": [],
   "source": [
    "daily_sleep['weekday'] = pd.to_datetime(daily_sleep['date']).dt.day_name()\n",
    "daily_sleep['week'] = pd.to_datetime(daily_sleep['date']).dt.isocalendar().week\n",
    "daily_sleep['month'] = pd.to_datetime(daily_sleep['date']).dt.month_name()\n",
    "\n",
    "# Average sleep by weekday\n",
    "weekday_avg = daily_sleep.groupby('weekday')['total_sleep_hours'].mean().reindex([\n",
    "    'Monday', 'Tuesday', 'Wednesday', 'Thursday', 'Friday', 'Saturday', 'Sunday'\n",
    "])\n",
    "\n",
    "sns.barplot(x=weekday_avg.index, y=weekday_avg.values, palette='viridis')\n",
    "plt.title(\"🗓️ Average Sleep by Day of Week\")\n",
    "plt.ylabel(\"Avg Hours Slept\")\n",
    "plt.xticks(rotation=45)\n",
    "plt.show()\n"
   ]
  },
  {
   "cell_type": "code",
   "execution_count": null,
   "id": "5c7d15aa",
   "metadata": {},
   "outputs": [],
   "source": [
    "avg_sleep = daily_sleep['total_sleep_hours'].mean()\n",
    "std_sleep = daily_sleep['total_sleep_hours'].std()\n",
    "cv_sleep = std_sleep / avg_sleep * 100\n",
    "\n",
    "print(f\"Average Sleep Duration: {avg_sleep:.2f} hours\")\n",
    "print(f\"Standard Deviation: {std_sleep:.2f} hours\")\n",
    "print(f\"Consistency (lower % = better): {cv_sleep:.1f}%\")\n"
   ]
  },
  {
   "cell_type": "code",
   "execution_count": null,
   "id": "df6bcfca",
   "metadata": {},
   "outputs": [],
   "source": [
    "sleep_types = [col for col in daily_sleep.columns if col not in ['date', 'total_sleep_hours', 'weekday', 'week', 'month']]\n",
    "\n",
    "phase_means = daily_sleep[sleep_types].mean().sort_values(ascending=False)\n",
    "\n",
    "sns.barplot(x=phase_means.index, y=phase_means.values, palette='magma')\n",
    "plt.title(\"💤 Average Duration by Sleep Phase\")\n",
    "plt.ylabel(\"Hours per Night\")\n",
    "plt.show()\n"
   ]
  },
  {
   "cell_type": "code",
   "execution_count": null,
   "id": "87188c84",
   "metadata": {},
   "outputs": [],
   "source": [
    "# Calculate sleep start and end times\n",
    "sleep_df['start_time'] = sleep_df['startDate'].dt.time\n",
    "sleep_df['end_time'] = sleep_df['endDate'].dt.time\n",
    "\n",
    "bedtimes = sleep_df.groupby('date')['startDate'].min().dt.hour\n",
    "wake_times = sleep_df.groupby('date')['endDate'].max().dt.hour\n",
    "\n",
    "plt.hist(bedtimes, bins=range(18, 30), alpha=0.7, label='Bedtime (hour)')\n",
    "plt.hist(wake_times, bins=range(4, 12), alpha=0.7, label='Wake Time (hour)')\n",
    "plt.legend()\n",
    "plt.title(\"🕰️ Bedtime & Wake Time Distribution\")\n",
    "plt.xlabel(\"Hour of Day\")\n",
    "plt.ylabel(\"Frequency\")\n",
    "plt.show()\n"
   ]
  },
  {
   "cell_type": "code",
   "execution_count": null,
   "id": "dc1f2759",
   "metadata": {},
   "outputs": [],
   "source": [
    "from statsmodels.tsa.arima.model import ARIMA\n",
    "\n",
    "ts = daily_sleep.set_index('date')['total_sleep_hours']\n",
    "model = ARIMA(ts, order=(2,1,2))\n",
    "results = model.fit()\n",
    "\n",
    "forecast = results.forecast(steps=7)\n",
    "forecast.plot(marker='o', title='🧠 7-Day Sleep Duration Forecast')\n",
    "plt.ylabel(\"Predicted Hours Slept\")\n",
    "plt.show()\n"
   ]
  },
  {
   "cell_type": "code",
   "execution_count": null,
   "id": "1d37857e",
   "metadata": {},
   "outputs": [],
   "source": [
    "insights = {\n",
    "    \"Average Sleep (hrs/night)\": round(avg_sleep, 2),\n",
    "    \"Most Frequent Bedtime Hour\": int(bedtimes.mode()[0]),\n",
    "    \"Most Frequent Wake Hour\": int(wake_times.mode()[0]),\n",
    "    \"Consistency % (lower=better)\": round(cv_sleep, 1)\n",
    "}\n",
    "\n",
    "print(\"🧠 Key Sleep Insights:\")\n",
    "for k, v in insights.items():\n",
    "    print(f\" - {k}: {v}\")\n"
   ]
  }
 ],
 "metadata": {
  "language_info": {
   "name": "python"
  }
 },
 "nbformat": 4,
 "nbformat_minor": 5
}
