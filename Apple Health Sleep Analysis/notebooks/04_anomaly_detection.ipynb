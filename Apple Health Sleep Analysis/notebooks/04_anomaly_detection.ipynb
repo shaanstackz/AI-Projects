{
 "cells": [
  {
   "cell_type": "code",
   "execution_count": null,
   "id": "12174b38",
   "metadata": {},
   "outputs": [],
   "source": [
    "import os\n",
    "import pandas as pd\n",
    "import numpy as np\n",
    "import matplotlib.pyplot as plt\n",
    "import seaborn as sns\n",
    "from sklearn.ensemble import IsolationForest\n",
    "from dotenv import load_dotenv\n",
    "from openai import OpenAI\n",
    "\n",
    "load_dotenv()\n",
    "client = OpenAI(api_key=os.getenv(\"OPENAI_API_KEY\"))\n"
   ]
  },
  {
   "cell_type": "code",
   "execution_count": null,
   "id": "c8240ad3",
   "metadata": {},
   "outputs": [],
   "source": [
    "df = pd.read_csv(\"results/daily_sleep_summary.csv\")\n",
    "\n",
    "if 'date' in df.columns:\n",
    "    df['date'] = pd.to_datetime(df['date'])\n",
    "\n",
    "print(\"✅ Data loaded successfully!\")\n",
    "print(df.head())\n"
   ]
  },
  {
   "cell_type": "code",
   "execution_count": null,
   "id": "bbc04651",
   "metadata": {},
   "outputs": [],
   "source": [
    "numeric_cols = df.select_dtypes(include=[np.number]).columns.tolist()\n",
    "\n",
    "if not numeric_cols:\n",
    "    raise ValueError(\"No numeric columns found in the dataset!\")\n",
    "\n",
    "df[numeric_cols] = df[numeric_cols].fillna(df[numeric_cols].median())\n"
   ]
  },
  {
   "cell_type": "code",
   "execution_count": null,
   "id": "bda20dbd",
   "metadata": {},
   "outputs": [],
   "source": [
    "iso = IsolationForest(contamination=0.1, random_state=42)\n",
    "df[\"anomaly\"] = iso.fit_predict(df[numeric_cols])\n",
    "df[\"is_anomaly\"] = df[\"anomaly\"] == -1\n",
    "\n",
    "print(f\"🚨 Detected {df['is_anomaly'].sum()} anomalies out of {len(df)} total days.\")\n"
   ]
  },
  {
   "cell_type": "code",
   "execution_count": null,
   "id": "d6959134",
   "metadata": {},
   "outputs": [],
   "source": [
    "plt.figure(figsize=(12, 6))\n",
    "plt.plot(df[\"date\"], df[\"total_sleep_hours\"], label=\"Total Sleep (hours)\", marker='o')\n",
    "plt.scatter(\n",
    "    df.loc[df[\"is_anomaly\"], \"date\"],\n",
    "    df.loc[df[\"is_anomaly\"], \"total_sleep_hours\"],\n",
    "    color=\"red\", label=\"Anomaly\", s=80\n",
    ")\n",
    "plt.title(\"🧠 Sleep Pattern Anomalies\")\n",
    "plt.xlabel(\"Date\")\n",
    "plt.ylabel(\"Total Sleep (hours)\")\n",
    "plt.legend()\n",
    "plt.grid(True)\n",
    "plt.show()\n"
   ]
  },
  {
   "cell_type": "code",
   "execution_count": null,
   "id": "1eee332f",
   "metadata": {},
   "outputs": [],
   "source": [
    "anomalies = df.loc[df[\"is_anomaly\"], [\"date\", \"total_sleep_hours\"] + [c for c in numeric_cols if c != \"total_sleep_hours\"]]\n",
    "\n",
    "sample_data = anomalies.head(10).to_markdown(index=False)\n",
    "\n",
    "prompt = f\"\"\"\n",
    "You are a sleep scientist analyzing daily sleep data anomalies.\n",
    "\n",
    "Below is a sample of detected unusual days in the user's sleep metrics:\n",
    "\n",
    "{sample_data}\n",
    "\n",
    "Explain:\n",
    "- What kind of irregularities are visible (short/long sleep, heart rate spikes, etc.)\n",
    "- Possible causes (stress, exercise change, inconsistent bedtime)\n",
    "- Actionable suggestions to restore healthy sleep patterns\n",
    "\n",
    "Keep it analytical yet easy to understand.\n",
    "\"\"\"\n"
   ]
  },
  {
   "cell_type": "code",
   "execution_count": null,
   "id": "ec1a149b",
   "metadata": {},
   "outputs": [],
   "source": [
    "response = client.responses.create(\n",
    "    model=os.getenv(\"GPT_MODEL\"),\n",
    "    input=prompt,\n",
    "    temperature=0.7,\n",
    ")\n",
    "\n",
    "print(\"🧠 Fine-Tuned AI Anomaly Analysis:\\n\")\n",
    "print(response.output[0].content[0].text)\n"
   ]
  }
 ],
 "metadata": {
  "language_info": {
   "name": "python"
  }
 },
 "nbformat": 4,
 "nbformat_minor": 5
}
