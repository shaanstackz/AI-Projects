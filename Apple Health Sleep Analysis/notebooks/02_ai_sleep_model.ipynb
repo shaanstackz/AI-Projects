{
 "cells": [
  {
   "cell_type": "code",
   "execution_count": 17,
   "id": "f6b0ccae",
   "metadata": {},
   "outputs": [
    {
     "ename": "ImportError",
     "evalue": "cannot import name 'parse_health_metrics' from 'parse_apple_health' (/Users/shaankohli/Documents/Sleep Analysis/Apple Health Sleep Analysis/src/parse_apple_health.py)",
     "output_type": "error",
     "traceback": [
      "\u001b[0;31m---------------------------------------------------------------------------\u001b[0m",
      "\u001b[0;31mImportError\u001b[0m                               Traceback (most recent call last)",
      "Cell \u001b[0;32mIn[17], line 6\u001b[0m\n\u001b[1;32m      4\u001b[0m \u001b[38;5;28;01mimport\u001b[39;00m\u001b[38;5;250m \u001b[39m\u001b[38;5;21;01mpandas\u001b[39;00m\u001b[38;5;250m \u001b[39m\u001b[38;5;28;01mas\u001b[39;00m\u001b[38;5;250m \u001b[39m\u001b[38;5;21;01mpd\u001b[39;00m\n\u001b[1;32m      5\u001b[0m \u001b[38;5;28;01mfrom\u001b[39;00m\u001b[38;5;250m \u001b[39m\u001b[38;5;21;01mai_sleep\u001b[39;00m\u001b[38;5;250m \u001b[39m\u001b[38;5;28;01mimport\u001b[39;00m engineer_features, train_sleep_model, generate_recommendations\n\u001b[0;32m----> 6\u001b[0m \u001b[38;5;28;01mfrom\u001b[39;00m\u001b[38;5;250m \u001b[39m\u001b[38;5;21;01mparse_apple_health\u001b[39;00m\u001b[38;5;250m \u001b[39m\u001b[38;5;28;01mimport\u001b[39;00m parse_health_metrics  \n\u001b[1;32m      8\u001b[0m \u001b[38;5;66;03m# Load processed data\u001b[39;00m\n\u001b[1;32m      9\u001b[0m daily_sleep \u001b[38;5;241m=\u001b[39m pd\u001b[38;5;241m.\u001b[39mread_csv(\u001b[38;5;124m\"\u001b[39m\u001b[38;5;124mresults/daily_sleep_summary.csv\u001b[39m\u001b[38;5;124m\"\u001b[39m)\n",
      "\u001b[0;31mImportError\u001b[0m: cannot import name 'parse_health_metrics' from 'parse_apple_health' (/Users/shaankohli/Documents/Sleep Analysis/Apple Health Sleep Analysis/src/parse_apple_health.py)"
     ]
    }
   ],
   "source": [
    "import sys, os\n",
    "sys.path.append(os.path.abspath(\"../src\"))\n",
    "\n",
    "import pandas as pd\n",
    "from ai_sleep import engineer_features, train_sleep_model, generate_recommendations\n",
    "from parse_apple_health import parse_health_metrics  \n",
    "\n",
    "# Load processed data\n",
    "daily_sleep = pd.read_csv(\"results/daily_sleep_summary.csv\")\n",
    "sleep_df = pd.read_csv(\"results/sleep_df.csv\")\n",
    "\n",
    "# Parse health metrics from export.xml\n",
    "health_df = parse_health_metrics(\"../data/export.xml\")  # <- add this\n",
    "\n",
    "# Engineer features including health metrics\n",
    "feature_df = engineer_features(daily_sleep, sleep_df, health_df=health_df)  # <- updated\n",
    "\n",
    "# Train AI model\n",
    "model, X_test, y_test, preds = train_sleep_model(feature_df)\n",
    "\n",
    "# Generate AI recommendations\n",
    "recs, pred_sleep = generate_recommendations(feature_df, model)\n",
    "\n",
    "print(\"\\n🧠 AI Sleep Recommendations:\")\n",
    "for r in recs:\n",
    "    print(\" -\", r)\n",
    "\n",
    "# Plot predicted vs actual sleep\n",
    "import matplotlib.pyplot as plt\n",
    "plt.figure(figsize=(7,4))\n",
    "plt.scatter(y_test, preds, alpha=0.7)\n",
    "plt.xlabel(\"Actual Sleep Hours\")\n",
    "plt.ylabel(\"Predicted Sleep Hours\")\n",
    "plt.title(\"AI Sleep Model Performance\")\n",
    "plt.plot([y_test.min(), y_test.max()], [y_test.min(), y_test.max()], 'r--')\n",
    "plt.show()\n"
   ]
  }
 ],
 "metadata": {
  "kernelspec": {
   "display_name": "Python 3",
   "language": "python",
   "name": "python3"
  },
  "language_info": {
   "codemirror_mode": {
    "name": "ipython",
    "version": 3
   },
   "file_extension": ".py",
   "mimetype": "text/x-python",
   "name": "python",
   "nbconvert_exporter": "python",
   "pygments_lexer": "ipython3",
   "version": "3.9.6"
  }
 },
 "nbformat": 4,
 "nbformat_minor": 5
}
